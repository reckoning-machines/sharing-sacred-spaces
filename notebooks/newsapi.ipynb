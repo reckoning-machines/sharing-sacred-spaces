{
 "cells": [
  {
   "cell_type": "code",
   "execution_count": null,
   "metadata": {},
   "outputs": [],
   "source": [
    "# newsapi.ai - event registry python package\n",
    "from eventregistry import *\n",
    "# import pandas as pd\n",
    "import json\n",
    "\n",
    "er = EventRegistry(apiKey = \"\")\n",
    "\n",
    "q = QueryArticlesIter(\n",
    "    keywords = \"hate crime\",\n",
    "    keywordsLoc = \"body,title\",\n",
    "    lang = \"eng\",\n",
    "    sourceLocationUri = er.getLocationUri(\"USA\"),\n",
    "    dateStart = \"2024-05-05\"\n",
    "    dateEnd = \"2024-05-05\"\n",
    ")\n",
    "\n",
    "filename = \"articles_metadata.txt\"\n",
    "\n",
    "try:\n",
    "    with open(filename, \"w\") as file:\n",
    "        for article in q.execQuery(er, \n",
    "                                sortBy = \"rel\", \n",
    "                                returnInfo = ReturnInfo(articleInfo = ArticleInfoFlags(location = True, image=False),\n",
    "                                                        locationInfo=LocationInfoFlags(\n",
    "                                    geoNamesId=True,\n",
    "                                    population=True,\n",
    "                                    geoLocation=True,\n",
    "                                    countryDetails=True,\n",
    "                                    placeCountry = False\n",
    "                                ))):\n",
    "            # Write JSON response to the file\n",
    "            json.dump(article, file, indent=4)\n",
    "            file.write(\"\\n\\n\")\n",
    "    \n",
    "    print(f\"Article metadata saved to {filename}\")\n",
    "\n",
    "except Exception as e:\n",
    "    print(f\"An error occurred: {e}\")"
   ]
  },
  {
   "cell_type": "code",
   "execution_count": null,
   "metadata": {},
   "outputs": [],
   "source": [
    "# pygooglenews - python wrapper of google news rss feed\n",
    "from pygooglenews import GoogleNews\n",
    "import json\n",
    "import time\n",
    "\n",
    "gn = GoogleNews('en','US')\n",
    "hate = gn.search('hate crime', from_ = '2014-01-01', to_ = '2024-06-05')\n",
    "entries = hate[\"entries\"]\n",
    "count = 0\n",
    "for entry in entries:\n",
    "  count = count + 1\n",
    "  print(\n",
    "    str(count) + \". \" + entry[\"title\"] + entry[\"published\"]\n",
    "  )\n",
    "  time.sleep(0.1)"
   ]
  }
 ],
 "metadata": {
  "language_info": {
   "name": "python"
  }
 },
 "nbformat": 4,
 "nbformat_minor": 2
}

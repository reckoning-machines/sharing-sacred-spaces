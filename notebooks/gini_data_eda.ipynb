{
 "cells": [
  {
   "cell_type": "code",
   "execution_count": 25,
   "metadata": {},
   "outputs": [],
   "source": [
    "import pandas as pd\n",
    "import os\n",
    "root = os.getcwd()\n",
    "root = root.split('/')[:-1]\n",
    "root = \"/\".join(root[1:])\n",
    "root = \"/\" + root\n",
    "root = root + \"/data/01_raw/\"\n",
    "import glob\n",
    "file_list = glob.glob(root+\"*-Data.csv\")\n",
    "df_list = []\n",
    "for file_name in file_list:\n",
    "    #print(file_name)\n",
    "    \n",
    "    year_name = file_name.split(\"/\")[8]\n",
    "    year_name = year_name.replace(\"ACSDT1Y\",\"\")\n",
    "    year_name = year_name.replace(\".B19083-Data.csv\",\"\")\n",
    "    df_gini = pd.read_csv(file_name)\n",
    "    df_gini.dropna(axis=1, how='all',inplace=True)\n",
    "\n",
    "    df_gini.columns = df_gini.iloc[0]\n",
    "    df_gini.drop(df_gini.index[0],inplace=True)\n",
    "    df_gini['year'] = year_name\n",
    "    df_list.append(df_gini)"
   ]
  },
  {
   "cell_type": "code",
   "execution_count": 26,
   "metadata": {},
   "outputs": [],
   "source": [
    "df = pd.concat(df_list)\n",
    "df[['city','state']] = df['Geographic Area Name'].str.split(',',expand=True)\n",
    "df['city'] = df['city'].str.replace(' city','')\n",
    "df['city'] = df['city'].str.replace(' zona urbana','')"
   ]
  },
  {
   "cell_type": "code",
   "execution_count": 29,
   "metadata": {},
   "outputs": [
    {
     "data": {
      "text/plain": [
       "Index(['Geography', 'Geographic Area Name', 'Estimate!!Gini Index',\n",
       "       'Margin of Error!!Gini Index', 'year', 'city', 'state'],\n",
       "      dtype='object', name=0)"
      ]
     },
     "execution_count": 29,
     "metadata": {},
     "output_type": "execute_result"
    }
   ],
   "source": [
    "\n",
    "\n",
    "df.columns"
   ]
  },
  {
   "cell_type": "code",
   "execution_count": 28,
   "metadata": {},
   "outputs": [
    {
     "ename": "NameError",
     "evalue": "name 'ACSDT1Y' is not defined",
     "output_type": "error",
     "traceback": [
      "\u001b[0;31m---------------------------------------------------------------------------\u001b[0m",
      "\u001b[0;31mNameError\u001b[0m                                 Traceback (most recent call last)",
      "Cell \u001b[0;32mIn[28], line 2\u001b[0m\n\u001b[1;32m      1\u001b[0m df_gini\n\u001b[0;32m----> 2\u001b[0m \u001b[43mACSDT1Y\u001b[49m\n",
      "\u001b[0;31mNameError\u001b[0m: name 'ACSDT1Y' is not defined"
     ]
    }
   ],
   "source": [
    "df_gini\n",
    "ACSDT1Y"
   ]
  }
 ],
 "metadata": {
  "kernelspec": {
   "display_name": "kedro-environment",
   "language": "python",
   "name": "python3"
  },
  "language_info": {
   "codemirror_mode": {
    "name": "ipython",
    "version": 3
   },
   "file_extension": ".py",
   "mimetype": "text/x-python",
   "name": "python",
   "nbconvert_exporter": "python",
   "pygments_lexer": "ipython3",
   "version": "3.10.14"
  }
 },
 "nbformat": 4,
 "nbformat_minor": 2
}
